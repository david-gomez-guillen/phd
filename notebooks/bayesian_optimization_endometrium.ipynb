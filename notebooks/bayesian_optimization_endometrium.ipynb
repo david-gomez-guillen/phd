{
 "cells": [
  {
   "cell_type": "markdown",
   "metadata": {
    "tags": []
   },
   "source": [
    "# Optimization benchmark for cost-effectiveness models (endometrium model)\n",
    "\n",
    "Models evaluated:"
   ]
  },
  {
   "cell_type": "code",
   "execution_count": null,
   "metadata": {
    "ExecuteTime": {
     "end_time": "2022-02-27T05:15:06.036954Z",
     "start_time": "2022-02-27T05:15:01.388418Z"
    },
    "code_folding": []
   },
   "outputs": [],
   "source": [
    "import time\n",
    "import json\n",
    "import math\n",
    "import os\n",
    "import itertools\n",
    "import numpy as np\n",
    "import pandas as pd\n",
    "from math import pi, cos, sqrt\n",
    "from timeit import default_timer as timer\n",
    "import rpy2.robjects as ro\n",
    "from rpy2.robjects import pandas2ri\n",
    "\n",
    "r = ro.r\n",
    "r.setwd(globals()['_dh'][0] + '/../models/endometrium')\n",
    "r.source('calibration_wrapper.R')\n",
    "make_simulation_func = ro.globalenv['calibration.simulation']\n",
    "\n",
    "# Strata of the input parameters\n",
    "strata = ['y{}_{}'.format(i, i+4) for i in range(50, 85, 5)]\n",
    "# Input parameter names \n",
    "param_names =['.p_cancer___bleeding'] * len(strata)\n",
    "# Expected value of the output (incidence per age group)\n",
    "expected_output = [0.048220892, 0.081144281, 0.105328782,\n",
    "     0.117587650, 0.119602721, 0.119602721, 0.119602721]\n",
    "\n",
    "simulate_func = make_simulation_func(\n",
    "    param_names,\n",
    "    strata,\n",
    "    ro.vectors.FloatArray(expected_output)\n",
    " )\n",
    "\n",
    "initial_guess = [0.048220892, 0.081144281, 0.105328782,\n",
    "     0.117587650, 0.119602721, 0.119602721, 0.119602721]\n",
    "\n",
    "functions = [\n",
    "    {\n",
    "        'function': simulate_func,\n",
    "        'initial_guesses': initial_guess,\n",
    "        'bounds': [(p*.8, min(p*1.2, 1)) for p in initial_guess],\n",
    "    }, \n",
    "]"
   ]
  },
  {
   "cell_type": "markdown",
   "metadata": {
    "tags": []
   },
   "source": [
    "## Classical optimization\n",
    "\n",
    "Optimization methods used (with different initial guesses tested):\n",
    "\n",
    "- Nelder-Mead\n",
    "- BFGS\n",
    "- L-BFGS-B\n",
    "\n",
    "Currently disabled due to excessive computation time"
   ]
  },
  {
   "cell_type": "code",
   "execution_count": null,
   "metadata": {
    "ExecuteTime": {
     "end_time": "2022-02-25T22:02:10.792963Z",
     "start_time": "2022-02-25T21:59:51.223161Z"
    },
    "tags": []
   },
   "outputs": [],
   "source": [
    "from scipy.optimize import minimize\n",
    "from IPython.display import display, HTML\n",
    "\n",
    "methods = ['Nelder-Mead', 'BFGS', 'L-BFGS-B']\n",
    "\n",
    "\n",
    "params_set = itertools.product(functions,            # Objective functions\n",
    "                               methods)              # Optimization methods\n",
    "\n",
    "def classical_function_wrapper(func):\n",
    "    def wrapper(X):\n",
    "        X2 = ro.vectors.FloatVector(X)\n",
    "        result = func(X2)\n",
    "        print(result.rx2(1)[0])\n",
    "        return result.rx2(1)[0]\n",
    "    return wrapper\n",
    "\n",
    "results_df = pd.DataFrame()\n",
    "for f, method in params_set:\n",
    "    for initial_guess in f['initial_guesses']:\n",
    "        function = f['function']\n",
    "        start = timer()\n",
    "        result = minimize(classical_function_wrapper(function), initial_guess, method=method)\n",
    "        elapsed_time = timer() - start\n",
    "        x = result['x']\n",
    "        fun = result['fun']\n",
    "        print(result)\n",
    "        error = opt_error(x, f['minima'])\n",
    "        success = result['success']\n",
    "        nfev = result['nfev']\n",
    "        nit = result['nit']\n",
    "        results_df = results_df.append(\n",
    "            {\n",
    "                'function': function.__name__,\n",
    "                'method': method,\n",
    "                'initial_guess': initial_guess,\n",
    "                'time': elapsed_time,\n",
    "                'solution': x,\n",
    "                'error': error,\n",
    "                'n_samples': None,\n",
    "                'iterations': nit,\n",
    "                'evaluations': nfev,\n",
    "                'prior_width': None,\n",
    "                'success': success,\n",
    "            }, ignore_index=True\n",
    "        )\n",
    "\n",
    "results_df"
   ]
  },
  {
   "cell_type": "markdown",
   "metadata": {},
   "source": [
    "## Bayesian optimization\n",
    "\n",
    "- Model used: Gaussian process\n",
    "- Prior for the optimum: Gaussian"
   ]
  },
  {
   "cell_type": "code",
   "execution_count": null,
   "metadata": {
    "ExecuteTime": {
     "start_time": "2022-02-27T05:16:30.895Z"
    },
    "scrolled": false,
    "tags": []
   },
   "outputs": [],
   "source": [
    "import math\n",
    "import sys\n",
    "import os\n",
    "from functools import reduce\n",
    "from contextlib import redirect_stdout\n",
    "from hypermapper import optimizer\n",
    "from concurrent.futures import ProcessPoolExecutor\n",
    "\n",
    "N_CORES = 1\n",
    "N_PRIOR_BINS = 10\n",
    "DEBUG = True\n",
    "\n",
    "def bo_function_wrapper(func):\n",
    "    def wrapper(X):\n",
    "        X2 = [X['x{}'.format(i+1)] for i in range(len(X))]\n",
    "        X2 = ro.vectors.FloatVector(X2)\n",
    "        result = func(X2)\n",
    "        print(result.rx2(1)[0])\n",
    "        return result.rx2(1)[0]\n",
    "    return wrapper\n",
    "\n",
    "def bo_optimization(f, model, n_samples, optim_iters, prior_width, experiment_num):\n",
    "    example_scenario = {\n",
    "        \"application_name\": \"bo_endometrium_{}\".format(experiment_num),\n",
    "        \"design_of_experiment\": {\n",
    "            \"doe_type\": \"random sampling\",\n",
    "            \"number_of_samples\": n_samples\n",
    "        },\n",
    "        \"optimization_objectives\": [\"Value\"],\n",
    "        \"optimization_iterations\": optim_iters,\n",
    "        \"models\": {\n",
    "            \"model\": model\n",
    "        },\n",
    "        \"input_parameters\" : {\n",
    "        },\n",
    "        #\"print_posterior_best\": True,\n",
    "        #\"print_best\": True,\n",
    "    }\n",
    "    \n",
    "    for i, bounds in enumerate(f['bounds']):            \n",
    "        example_scenario['input_parameters']['x{}'.format(i+1)] = {\n",
    "            'parameter_type': 'real',\n",
    "            'values': bounds,\n",
    "        }\n",
    "        if prior_width != -1:\n",
    "            example_scenario['input_parameters']['x{}'.format(i+1)]['prior'] = 'gaussian'\n",
    "\n",
    "    scenario_file_path = \"bo_optimization_scenario_{}.json\".format(experiment_num)\n",
    "    with open(scenario_file_path, \"w\") as scenario_file:\n",
    "        json.dump(example_scenario, scenario_file, indent=4)\n",
    "\n",
    "    stdout = sys.stdout # Jupyter uses a special stdout and HyperMapper logging overwrites it. Save stdout to restore later\n",
    "    start = timer()\n",
    "    with open(os.devnull, 'w') as devnull:\n",
    "        if DEBUG:\n",
    "            optimizer.optimize(scenario_file_path, bo_function_wrapper(f['function']))\n",
    "        else:\n",
    "            with redirect_stdout(devnull):\n",
    "                optimizer.optimize(scenario_file_path, bo_function_wrapper(f['function']))\n",
    "    elapsed_time = timer() - start\n",
    "    sys.stdout = stdout\n",
    "    df = pd.read_csv('bo_endometrium_{}_output_samples.csv'.format(experiment_num))\n",
    "    best_found = df.sort_values('Value').iloc[1,:]\n",
    "\n",
    "    x = list(best_found[0:len(f['bounds'])])\n",
    "    print(df)\n",
    "\n",
    "    print('Test {} done.'.format(experiment_num))\n",
    "    \n",
    "    return {\n",
    "            'function': 'endometrium_model',\n",
    "            'method': 'BO',\n",
    "            'initial_guess': None,\n",
    "            'time': elapsed_time,\n",
    "            'solution': x,\n",
    "            'error': error,\n",
    "            'n_samples': n_samples,\n",
    "            'iterations': None,\n",
    "            'evaluations': optim_iters,\n",
    "            'prior_width': prior_width,\n",
    "            'success': 1,\n",
    "    }\n",
    "       \n",
    "pars = [\n",
    "    functions,            # Objective functions\n",
    "    ['gaussian_process'], # Model\n",
    "    [50],                  # Number of samples\n",
    "    [50],                 # Optimization iterations\n",
    "    [-1]                  # Use prior?\n",
    "]\n",
    "params_set = itertools.product(*pars)           # Use prior?\n",
    "num_combinations = reduce(lambda x,y:x*y, [len(p) for p in pars])\n",
    "\n",
    "print('{} tests to perform...'.format(num_combinations))\n",
    "with ProcessPoolExecutor(N_CORES) as executor:\n",
    "    futures = []\n",
    "    for i, (f, model, n_samples, optim_iters, prior_width) in enumerate(params_set):\n",
    "        futures.append(executor.submit(bo_optimization, f, model, n_samples, optim_iters, prior_width, i))\n",
    "        \n",
    "    start = timer()\n",
    "    results = [f.result() for f in futures]\n",
    "    print('Total experiment time: {0:.2f} min'.format((timer() - start)/60))\n",
    "    bo_results_df = pd.DataFrame(results)       \n",
    "        \n",
    "bo_results_df"
   ]
  },
  {
   "cell_type": "code",
   "execution_count": null,
   "metadata": {},
   "outputs": [],
   "source": [
    "df = results_df.append(bo_results_df)\n",
    "df.to_csv('bo_endometrium_optimization_comparison.csv')"
   ]
  },
  {
   "cell_type": "markdown",
   "metadata": {},
   "source": [
    "## Comparison of BO parameters"
   ]
  },
  {
   "cell_type": "code",
   "execution_count": null,
   "metadata": {},
   "outputs": [],
   "source": [
    "%matplotlib inline\n",
    "df = pd.read_csv('bo_endometrium_optimization_comparison.csv')\n",
    "bo_df = df[df.method.eq('BO')]\n",
    "\n",
    "bo_df.boxplot('time', by='prior_width')\n",
    "bo_df.boxplot('error', by='prior_width')\n",
    "bo_df.boxplot('error', by='n_samples')\n",
    "bo_df.boxplot('error', by='evaluations')"
   ]
  },
  {
   "cell_type": "markdown",
   "metadata": {},
   "source": [
    "## Comparison of branin function"
   ]
  },
  {
   "cell_type": "code",
   "execution_count": null,
   "metadata": {},
   "outputs": [],
   "source": [
    "df_branin = df[df.function.eq('branin')]\n",
    "df_branin.boxplot('time', by='method')\n",
    "df_branin.boxplot('evaluations', by='method')\n",
    "df_branin.boxplot('error', by='method')\n",
    "df_branin.boxplot('error', by='n_samples')\n",
    "df_branin[df_branin.method.eq('BO')].boxplot('error', by='evaluations')"
   ]
  },
  {
   "cell_type": "markdown",
   "metadata": {
    "tags": []
   },
   "source": [
    "## Comparison of rosenbrock function"
   ]
  },
  {
   "cell_type": "code",
   "execution_count": null,
   "metadata": {},
   "outputs": [],
   "source": [
    "df_rosenbrock = df[df.function.eq('rosenbrock')]\n",
    "df_rosenbrock.boxplot('time', by='method')\n",
    "df_rosenbrock.boxplot('evaluations', by='method')\n",
    "df_rosenbrock.boxplot('error', by='method')\n",
    "df_rosenbrock.boxplot('error', by='n_samples')\n",
    "df_rosenbrock[df_rosenbrock.method.eq('BO')].boxplot('error', by='evaluations')"
   ]
  },
  {
   "cell_type": "markdown",
   "metadata": {
    "tags": []
   },
   "source": [
    "## Comparison of rastrigin function"
   ]
  },
  {
   "cell_type": "code",
   "execution_count": null,
   "metadata": {},
   "outputs": [],
   "source": [
    "df_rastrigin = df[df.function.eq('rastrigin')]\n",
    "df_rastrigin.boxplot('time', by='method')\n",
    "df_rastrigin.boxplot('evaluations', by='method')\n",
    "df_rastrigin.boxplot('error', by='method')\n",
    "df_rastrigin.boxplot('error', by='n_samples')\n",
    "df_rastrigin[df_rastrigin.method.eq('BO')].boxplot('error', by='evaluations')"
   ]
  },
  {
   "cell_type": "code",
   "execution_count": null,
   "metadata": {},
   "outputs": [],
   "source": []
  }
 ],
 "metadata": {
  "kernelspec": {
   "display_name": "Python 3 (ipykernel)",
   "language": "python",
   "name": "python3"
  },
  "language_info": {
   "codemirror_mode": {
    "name": "ipython",
    "version": 3
   },
   "file_extension": ".py",
   "mimetype": "text/x-python",
   "name": "python",
   "nbconvert_exporter": "python",
   "pygments_lexer": "ipython3",
   "version": "3.10.2"
  }
 },
 "nbformat": 4,
 "nbformat_minor": 4
}
