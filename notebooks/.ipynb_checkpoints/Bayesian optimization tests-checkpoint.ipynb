{
 "cells": [
  {
   "cell_type": "code",
   "execution_count": 1,
   "metadata": {},
   "outputs": [],
   "source": [
    "from math import pi, cos\n",
    "import numpy as np\n",
    "\n",
    "def branin(X):\n",
    "    x1 = X['x1']\n",
    "    x2 = X['x2']\n",
    "    print(x1)\n",
    "    print(x2)\n",
    "    a=1\n",
    "    b=5.1/(4*pi**2)\n",
    "    c=5/pi\n",
    "    r=6\n",
    "    s=10\n",
    "    t=1/(8*pi)\n",
    "    return a*(x2-b*x1**2+c*x1-r)**2 + s*(1-t)*cos(x1)+s"
   ]
  },
  {
   "cell_type": "code",
   "execution_count": 2,
   "metadata": {},
   "outputs": [],
   "source": [
    "import json\n",
    "\n",
    "example_scenario = {\n",
    "    \"application_name\": \"1d_branin\",\n",
    "    \"design_of_experiment\": {\n",
    "    \"doe_type\": \"random sampling\",\n",
    "    \"number_of_samples\": 20\n",
    "    },\n",
    "    \"optimization_objectives\": [\"Value\"],\n",
    "    \"optimization_iterations\": 20,\n",
    "    \"models\": {\n",
    "        \"model\": \"gaussian_process\"\n",
    "    },\n",
    "    \"input_parameters\" : {\n",
    "        \"x1\": {\n",
    "            \"parameter_type\" : \"ordinal\",\n",
    "            \"values\" : [-5, -4, -3, -2, -1, 0, 1, 2, 3, 4, 5, 6, 7, 8, 9, 10],\n",
    "            \"prior\" : [0.2, 0.3, 0.3, 0.2, 0, 0, 0, 0, 0, 0, 0, 0, 0, 0, 0, 0]\n",
    "        },\n",
    "        \"x2\": {\n",
    "            \"parameter_type\" : \"ordinal\",\n",
    "            \"values\" : [0, 1, 2, 3, 4, 5, 6, 7, 8, 9, 10, 11, 12, 13, 14, 15],\n",
    "            \"prior\" : [0, 0, 0, 0, 0, 0, 0, 0, 0, 0, 0.2, 0.3, 0.3, 0.2, 0, 0]\n",
    "        }\n",
    "    }\n",
    "}\n",
    "scenario_file_path = \"example_branin_scenario.json\"\n",
    "with open(scenario_file_path, \"w\") as scenario_file:\n",
    "    json.dump(example_scenario, scenario_file, indent=4)"
   ]
  },
  {
   "cell_type": "code",
   "execution_count": null,
   "metadata": {
    "scrolled": true
   },
   "outputs": [
    {
     "name": "stdout",
     "output_type": "stream",
     "text": [
      "\n",
      " ####\n",
      " Warning: reached maximum number of Random sampling that have been already run. \n",
      "The Random sampling configuration selection will stop now. Is the search space very small?\n",
      "\n",
      "Design of experiment phase, number of new doe samples = 16 .......\n",
      "-5\n",
      "10\n",
      "-3\n",
      "11\n",
      "-3\n",
      "10\n",
      "-4\n",
      "12\n",
      "-2\n",
      "10\n",
      "-3\n",
      "12\n",
      "-4\n",
      "11\n",
      "-4\n",
      "13\n",
      "-3\n",
      "13\n",
      "-2\n",
      "13\n",
      "-2\n",
      "11\n",
      "-5\n",
      "11\n",
      "-4\n",
      "10\n",
      "-5\n",
      "13\n",
      "-5\n",
      "12\n",
      "-2\n",
      "12\n",
      "x1,x2,Value,Timestamp\n",
      "-5,10,64.381898347721,153571\n",
      "-3,11,1.3725284598926972,153632\n",
      "-3,10,4.247146209998071,153635\n",
      "-4,12,9.643858614347486,153643\n",
      "-2,10,6.094209087303737,153647\n",
      "-3,12,0.4979107097873232,153653\n",
      "-4,11,15.510158354306498,153656\n",
      "-4,13,5.777558874388475,153661\n",
      "-3,13,1.6232929596819492,153665\n",
      "-2,13,16.895187696820756,153670\n",
      "-2,11,7.694535290476077,153676\n",
      "-5,11,51.00717858133244,153680\n",
      "-4,10,23.3764580942655,153684\n",
      "-5,13,30.257739048555305,153689\n",
      "-5,12,39.632458814943874,153696\n",
      "-2,12,11.294861493648417,153702\n",
      "\n",
      "\n",
      "End of doe/resume phase, the number of evaluated configurations is: 20\n",
      "\n",
      "Starting optimization iteration 1\n"
     ]
    }
   ],
   "source": [
    "import sys\n",
    "import os\n",
    "from hypermapper import optimizer\n",
    "stdout = sys.stdout # Jupyter uses a special stdout and HyperMapper logging overwrites it. Save stdout to restore later\n",
    "\n",
    "optimizer.optimize(scenario_file_path, branin)\n",
    "\n",
    "sys.stdout = stdout"
   ]
  },
  {
   "cell_type": "code",
   "execution_count": null,
   "metadata": {},
   "outputs": [],
   "source": []
  }
 ],
 "metadata": {
  "kernelspec": {
   "display_name": "Python 3",
   "language": "python",
   "name": "python3"
  },
  "language_info": {
   "codemirror_mode": {
    "name": "ipython",
    "version": 3
   },
   "file_extension": ".py",
   "mimetype": "text/x-python",
   "name": "python",
   "nbconvert_exporter": "python",
   "pygments_lexer": "ipython3",
   "version": "3.7.6"
  }
 },
 "nbformat": 4,
 "nbformat_minor": 4
}
